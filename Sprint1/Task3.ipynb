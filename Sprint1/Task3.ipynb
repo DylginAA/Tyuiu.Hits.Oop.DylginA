{
 "cells": [
  {
   "cell_type": "markdown",
   "metadata": {},
   "source": [
    "<h1 style=\"color:DodgerBlue\">Индивидальный проект</h1>"
   ]
  },
  {
   "cell_type": "markdown",
   "metadata": {},
   "source": [
    "<h2 style=\"color:DodgerBlue\">Название проекта:</h2>\n",
    "\n",
    "----\n",
    "\n",
    "### Вариант задания \n"
   ]
  },
  {
   "cell_type": "markdown",
   "metadata": {},
   "source": [
    "<h2 style=\"color:DodgerBlue\">Описание проекта:</h2>\n",
    "\n",
    "----\n",
    "\n",
    "[ваш текст]\n",
    "\n",
    "#### Дополнительное задание\n",
    "Добавьте к сущестующим классам конструктора классов с использованием гетторов и сетторов и реализуйте взаимодействие объектов между собой"
   ]
  },
  {
   "cell_type": "markdown",
   "metadata": {},
   "source": [
    "<h2 style=\"color:DodgerBlue\">Реализация:</h2>\n",
    "\n",
    "----"
   ]
  },
  {
   "cell_type": "code",
   "execution_count": 17,
   "metadata": {
    "dotnet_interactive": {
     "language": "csharp"
    },
    "polyglot_notebook": {
     "kernelName": "csharp"
    }
   },
   "outputs": [
    {
     "name": "stdout",
     "output_type": "stream",
     "text": [
      "Товар Ноутбук добавлен на склад Личный склад.\n",
      "Склад Личный склад (Владелец: Ivan) имеет 49 свободных мест.\n",
      "Товар 'Телефон' добавлен в группу 'Электроппника' на склад 'Основной склад'.\n",
      "Склад Основной склад (Группа: Электроппника) имеет 49 свободных мест.\n",
      "Товар Ноутбук перемещен со склада Личный склад на склад Основной склад.\n",
      "Склад Личный склад (Владелец: Ivan) имеет 50 свободных мест.\n",
      "Склад Основной склад (Группа: Электроппника) имеет 48 свободных мест.\n"
     ]
    }
   ],
   "source": [
    "public class Inventory\n",
    "{\n",
    "    public int WarehouseId { get; set; }\n",
    "    public string WarehouseName { get; set; }\n",
    "    public double StorageCapacity { get; set; }\n",
    "    public List<string> Items { get; set; } = new List<string>();\n",
    "\n",
    "    public Inventory(int warehouseId, string warehouseName = \"\", double storageCapacity = 0)\n",
    "    {\n",
    "        WarehouseId = warehouseId;\n",
    "        WarehouseName = warehouseName;\n",
    "        StorageCapacity = storageCapacity;\n",
    "    }\n",
    "\n",
    "    public virtual string GetStorageStatus()\n",
    "    {\n",
    "        return $\"Склад {WarehouseName} (ID: {WarehouseId}) имеет {StorageCapacity - Items.Count} свободных мест.\";\n",
    "    }\n",
    "\n",
    "    public virtual void AddItem(string item)\n",
    "    {\n",
    "        if (Items.Count < StorageCapacity)\n",
    "        {\n",
    "            Items.Add(item);\n",
    "            Console.WriteLine($\"Товар {item} добавлен на склад {WarehouseName}.\");\n",
    "        }\n",
    "        else\n",
    "        {\n",
    "            Console.WriteLine(\"Недостаточно места на складе.\");\n",
    "        }\n",
    "    }\n",
    "\n",
    "    public virtual void RemoveItem(string item)\n",
    "    {\n",
    "        if (Items.Remove(item))\n",
    "        {\n",
    "            Console.WriteLine($\"Товар {item} удален со склада {WarehouseName}.\");\n",
    "        }\n",
    "        else\n",
    "        {\n",
    "            Console.WriteLine(\"Товар не найден на складе.\");\n",
    "        }\n",
    "    }\n",
    "    public bool TransferItemTo(string item, Inventory targetWarehouse)\n",
    "    {\n",
    "        if (Items.Contains(item))\n",
    "        {\n",
    "            if (targetWarehouse.Items.Count < targetWarehouse.StorageCapacity)\n",
    "            {\n",
    "                Items.Remove(item);\n",
    "                targetWarehouse.Items.Add(item);\n",
    "                Console.WriteLine($\"Товар {item} перемещен со склада {WarehouseName} на склад {targetWarehouse.WarehouseName}.\");\n",
    "                return true;\n",
    "            }\n",
    "            else\n",
    "            {\n",
    "                Console.WriteLine($\"Недостаточно места на целевом складе {targetWarehouse.WarehouseName}.\");\n",
    "                return false;\n",
    "            }\n",
    "        }\n",
    "        else\n",
    "        {\n",
    "            Console.WriteLine($\"Товар {item} не найден на складе {WarehouseName}.\");\n",
    "            return false;\n",
    "        }\n",
    "    }\n",
    "\n",
    "    public bool HasItem(string item)\n",
    "    {\n",
    "        return Items.Contains(item);\n",
    "    }\n",
    "}\n",
    "public class PersonalInventory : Inventory\n",
    "{\n",
    "    public string OwnerName { get; set; }\n",
    "    public PersonalInventory(string ownerName, int warehouseId, string warehouseName = \"\", double storageCapacity = 0) \n",
    "        : base(warehouseId, warehouseName, storageCapacity) \n",
    "    {\n",
    "        OwnerName = ownerName;\n",
    "    }\n",
    "\n",
    "    public override string GetStorageStatus()\n",
    "    {\n",
    "        return $\"Склад {WarehouseName} (Владелец: {OwnerName}) имеет {StorageCapacity - Items.Count} свободных мест.\";\n",
    "    }\n",
    "}\n",
    "public class GroupInventory : Inventory{\n",
    "    public string ProductGroup{get; set;}\n",
    "    public GroupInventory(string productgroup, int warehouseId, string warehouseName = \"\", double storageCapacity = 0)\n",
    "        : base(warehouseId, warehouseName, storageCapacity) \n",
    "    {\n",
    "        ProductGroup = productgroup;\n",
    "    }\n",
    "    public override void AddItem(string item)\n",
    "    {\n",
    "        if (Items.Count < StorageCapacity)\n",
    "        {\n",
    "            Items.Add(item);\n",
    "            Console.WriteLine($\"Товар '{item}' добавлен в группу '{ProductGroup}' на склад '{WarehouseName}'.\");\n",
    "        }\n",
    "        else\n",
    "        {\n",
    "            Console.WriteLine($\"Недостаточно места на складе '{WarehouseName}' для группы '{ProductGroup}'.\");\n",
    "        }\n",
    "    }\n",
    "    public override string GetStorageStatus()\n",
    "{\n",
    "    return $\"Склад {WarehouseName} (Группа: {ProductGroup}) имеет {StorageCapacity - Items.Count} свободных мест.\";\n",
    "}\n",
    "}\n",
    "PersonalInventory persona = new PersonalInventory(\"Ivan\", 1, \"Личный склад\", 50);\n",
    "persona.AddItem(\"Ноутбук\");\n",
    "Console.WriteLine(persona.GetStorageStatus());\n",
    "GroupInventory group = new GroupInventory(\"Электроппника\", 1, \"Основной склад\", 50);\n",
    "group.AddItem(\"Телефон\");\n",
    "Console.WriteLine(group.GetStorageStatus());\n",
    "persona.TransferItemTo(\"Ноутбук\", group);\n",
    "Console.WriteLine(persona.GetStorageStatus());\n",
    "Console.WriteLine(group.GetStorageStatus());\n"
   ]
  }
 ],
 "metadata": {
  "kernelspec": {
   "display_name": ".NET (C#)",
   "language": "C#",
   "name": ".net-csharp"
  },
  "language_info": {
   "name": "polyglot-notebook"
  },
  "polyglot_notebook": {
   "kernelInfo": {
    "defaultKernelName": "csharp",
    "items": [
     {
      "aliases": [],
      "languageName": "csharp",
      "name": "csharp"
     }
    ]
   }
  }
 },
 "nbformat": 4,
 "nbformat_minor": 2
}
